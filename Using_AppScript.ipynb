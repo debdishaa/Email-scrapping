{
  "nbformat": 4,
  "nbformat_minor": 0,
  "metadata": {
    "colab": {
      "provenance": []
    },
    "kernelspec": {
      "name": "python3",
      "display_name": "Python 3"
    },
    "language_info": {
      "name": "python"
    }
  },
  "cells": [
    {
      "cell_type": "markdown",
      "source": [
        "# Using AppScript"
      ],
      "metadata": {
        "id": "lFmOUulz68qM"
      }
    },
    {
      "cell_type": "markdown",
      "source": [
        "The given code will return e-mail id found from the list of URLs of companies present in the Google Sheet."
      ],
      "metadata": {
        "id": "PcmkqCW07I5I"
      }
    },
    {
      "cell_type": "markdown",
      "source": [
        "NOTE :  column A is considered to contain the list of URLS and e-mails will populate in column B\n"
      ],
      "metadata": {
        "id": "Qf1fG0jx7Zku"
      }
    },
    {
      "cell_type": "code",
      "source": [
        "function extractEmails() {\n",
        "  var sheet = SpreadsheetApp.getActiveSpreadsheet().getActiveSheet();\n",
        "  var lastRow = sheet.getLastRow();\n",
        "  var urls = sheet.getRange(1, 1, lastRow).getValues();\n",
        "\n",
        "  for (var i = 0; i < urls.length; i++) {\n",
        "    var url = urls[i][0];\n",
        "    try {\n",
        "      var response = UrlFetchApp.fetch(url);\n",
        "      var content = response.getContentText();\n",
        "      var email = getEmailFromContent(content);\n",
        "      if (email) {\n",
        "        sheet.getRange(i + 1, 2).setValue(email);\n",
        "      }\n",
        "    } catch (e) {\n",
        "      console.error('Error fetching URL: ' + url);\n",
        "    }\n",
        "  }\n",
        "}\n",
        "\n",
        "function getEmailFromContent(content) {\n",
        "  var emailPattern = /[a-zA-Z0-9._-]+@[a-zA-Z0-9.-]+\\.[a-zA-Z]{2,4}/g;\n",
        "  var emails = content.match(emailPattern);\n",
        "  if (emails && emails.length) {\n",
        "    return emails[0];\n",
        "  }\n",
        "  return null;\n",
        "}"
      ],
      "metadata": {
        "id": "QXg9kRh-7FlN"
      },
      "execution_count": null,
      "outputs": []
    }
  ]
}
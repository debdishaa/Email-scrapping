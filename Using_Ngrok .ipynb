{
  "nbformat": 4,
  "nbformat_minor": 0,
  "metadata": {
    "colab": {
      "provenance": []
    },
    "kernelspec": {
      "name": "python3",
      "display_name": "Python 3"
    },
    "language_info": {
      "name": "python"
    }
  },
  "cells": [
    {
      "cell_type": "markdown",
      "source": [
        "# **Setting up Flask in Google Colab**"
      ],
      "metadata": {
        "id": "yqT1Vg_WuXA9"
      }
    },
    {
      "cell_type": "code",
      "execution_count": null,
      "metadata": {
        "id": "RcwZa1p1t1m1"
      },
      "outputs": [],
      "source": [
        "\n",
        "!pip install flask-ngrok\n",
        "\n",
        "from flask import Flask, request\n",
        "from flask_ngrok import run_with_ngrok\n",
        "import requests\n",
        "from bs4 import BeautifulSoup\n",
        "import re\n",
        "\n",
        "\n",
        "app = Flask(__name__)\n",
        "run_with_ngrok(app)\n",
        "\n",
        "@app.route('/fetchEmail', methods=['POST'])\n",
        "def fetch_email():\n",
        "    url = request.form['url']\n",
        "\n",
        "    try:\n",
        "        response = requests.get(url)\n",
        "        soup = BeautifulSoup(response.text, 'html.parser')\n",
        "        email = re.findall(r\"[a-zA-Z0-9._-]+@[a-zA-Z0-9._-]+\\.[a-zA-Z0-9_-]+\", soup.text)\n",
        "        if email:\n",
        "            return email[0]\n",
        "        else:\n",
        "            return \"No email found\"\n",
        "    except:\n",
        "        return \"Error fetching email\"\n",
        "\n",
        "app.run()\n"
      ]
    },
    {
      "cell_type": "markdown",
      "source": [
        "^^ This will give you the URL(ngrok.io) which is your public endpoint\n"
      ],
      "metadata": {
        "id": "6xRrjYWYuBAO"
      }
    },
    {
      "cell_type": "markdown",
      "source": [
        "## Back in Google App Script :"
      ],
      "metadata": {
        "id": "dh30KrhouScb"
      }
    },
    {
      "cell_type": "markdown",
      "source": [
        "Replace YOUR_SERVER_ADDRESS in the Google Apps Script code with the ngrok URL provided."
      ],
      "metadata": {
        "id": "Phh8pf--u9Ry"
      }
    },
    {
      "cell_type": "code",
      "source": [
        "function getEmailAddresses() {\n",
        "  var sheet = SpreadsheetApp.getActiveSpreadsheet().getActiveSheet();\n",
        "  var data = sheet.getDataRange().getValues();\n",
        "\n",
        "  for (var i = 0; i < data.length; i++) {\n",
        "    var url = data[i][0];\n",
        "    var email = fetchEmailFromURL(url);\n",
        "    sheet.getRange(i + 1, 2).setValue(email);\n",
        "  }\n",
        "}\n",
        "\n",
        "function fetchEmailFromURL(url) {\n",
        "  var fetchUrl = \"http://YOUR_SERVER_ADDRESS/fetchEmail\";\n",
        "  var payload = {\n",
        "    \"url\": url\n",
        "  };\n",
        "  var options = {\n",
        "    \"method\": \"post\",\n",
        "    \"payload\": payload\n",
        "  };\n",
        "\n",
        "  var response = UrlFetchApp.fetch(fetchUrl, options);\n",
        "  return response.getContentText();\n",
        "}\n"
      ],
      "metadata": {
        "id": "sG8j6H9TuQ7P"
      },
      "execution_count": null,
      "outputs": []
    },
    {
      "cell_type": "markdown",
      "source": [
        "Note : Make sure to authenticate ngrok before using the server address"
      ],
      "metadata": {
        "id": "G7jWgqdSt2uO"
      }
    }
  ]
}
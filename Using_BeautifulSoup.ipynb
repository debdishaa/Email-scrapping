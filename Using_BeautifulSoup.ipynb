{
  "nbformat": 4,
  "nbformat_minor": 0,
  "metadata": {
    "colab": {
      "provenance": []
    },
    "kernelspec": {
      "name": "python3",
      "display_name": "Python 3"
    },
    "language_info": {
      "name": "python"
    }
  },
  "cells": [
    {
      "cell_type": "markdown",
      "source": [
        "## Using BeautifulSoup\n"
      ],
      "metadata": {
        "id": "tPo0B6COv87w"
      }
    },
    {
      "cell_type": "markdown",
      "source": [],
      "metadata": {
        "id": "cZomoWbXwD2I"
      }
    },
    {
      "cell_type": "code",
      "source": [
        "import re\n",
        "import requests\n",
        "from bs4 import BeautifulSoup\n",
        "import time\n",
        "\n",
        "websites = [ \"a\",\"b\",\"c\"....]\n",
        "\n",
        "email_pattern = r\"[a-zA-Z0-9._%+-]+@[a-zA-Z0-9.-]+\\.[a-zA-Z]{2,3}\"\n",
        "\n",
        "for website in websites:\n",
        "    try:\n",
        "        response = requests.get(website, timeout=10)\n",
        "        content = response.text\n",
        "\n",
        "        soup = BeautifulSoup(content, 'html.parser')\n",
        "        emails = re.findall(email_pattern, soup.get_text())\n",
        "\n",
        "        print(f\"Emails found on {website}: {emails}\")\n",
        "\n",
        "    except requests.RequestException as e:\n",
        "        print(f\"Error fetching {website}: {e}\")\n",
        "\n",
        "\n",
        "    time.sleep(2)\n"
      ],
      "metadata": {
        "id": "VvmoS-ItwNgC"
      },
      "execution_count": null,
      "outputs": []
    },
    {
      "cell_type": "markdown",
      "source": [
        "**NOTE - a, b, a are the websites in form of a list of strings**\n",
        "\n",
        "2 min sleep-time to avoid IP block"
      ],
      "metadata": {
        "id": "3fqOZyHlwX2G"
      }
    },
    {
      "cell_type": "markdown",
      "source": [],
      "metadata": {
        "id": "h8-d0RlvwiGJ"
      }
    },
    {
      "cell_type": "markdown",
      "source": [
        "# Output as Dictionary"
      ],
      "metadata": {
        "id": "tikiZMAgyuLf"
      }
    },
    {
      "cell_type": "code",
      "source": [
        "import re\n",
        "import requests\n",
        "from bs4 import BeautifulSoup\n",
        "import time\n",
        "\n",
        "websites = [ \"a\",\"b\",\"c\"....]\n",
        "\n",
        "\n",
        "email_pattern = r\"[a-zA-Z0-9._%+-]+@[a-zA-Z0-9.-]+\\.[a-zA-Z]{2,3}\"\n",
        "\n",
        "results = {}\n",
        "\n",
        "for website in websites:\n",
        "    try:\n",
        "        response = requests.get(website, timeout=10)\n",
        "        content = response.text\n",
        "\n",
        "        soup = BeautifulSoup(content, 'html.parser')\n",
        "        emails = re.findall(email_pattern, soup.get_text())\n",
        "\n",
        "\n",
        "        if emails:\n",
        "            results[website] = ', '.join(emails)\n",
        "        else:\n",
        "            results[website] = \"not found\"\n",
        "\n",
        "    except requests.RequestException as e:\n",
        "        results[website] = \"Error fetching website\"\n",
        "\n",
        "\n",
        "    time.sleep(2)\n",
        "\n",
        "print(results)\n"
      ],
      "metadata": {
        "id": "2sQYoL5oxSU8"
      },
      "execution_count": null,
      "outputs": []
    },
    {
      "cell_type": "markdown",
      "source": [
        "**NOTE : the output is in form of dictionaries {website:email}**\n",
        "\n",
        "This is beneficial to our used case as we can later populate this in the Suppliers sheet.\n",
        "\n"
      ],
      "metadata": {
        "id": "Sbf3bHXSxjnu"
      }
    },
    {
      "cell_type": "code",
      "source": [],
      "metadata": {
        "id": "Exq6NI4uxuMq"
      },
      "execution_count": null,
      "outputs": []
    }
  ]
}